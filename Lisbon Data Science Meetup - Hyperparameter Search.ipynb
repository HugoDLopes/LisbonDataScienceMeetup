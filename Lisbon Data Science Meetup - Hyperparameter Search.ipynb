{
 "cells": [
  {
   "cell_type": "markdown",
   "metadata": {},
   "source": [
    "# Machine Learning Hyperparameter Search (from Grid Search to SKOPT)\n",
    "This is the Jupyter (IPython) notebook support for the Lisbon Data Science meetup of 2016/10/19, held at Startup Lisboa, Portugal. Link to the Meetup [here](http://www.meetup.com/Lisbon-Open-Data-Meetup/events/234758716/?_af=event&_af_eid=234758716&https=off).\n",
    "\n",
    "### Introduction\n",
    "An important part of using any machine learning algorithm (such as Logistic Regression or Random Forests) is tuning the hyper parameters. \n",
    "\n",
    "Tools such as scikit's **Grid-Search** and **Randomized Search** have greatly improved the ability to use CPU instead of sweat and tears to tune over large hyperparameter spaces. \n",
    "\n",
    "More recently, a new library has appeared - **Scikit-Optimize** - which allows us to use Bayesian Optimization (among other things) to help find good hyperparameters with less computation resources.  \n",
    "\n",
    "---\n",
    "**Contents**:\n",
    "- Grid-Search CV\n",
    "- Randomized Search CV\n",
    "- Scikit-Optimize (SKOPT)\n",
    "\n",
    "---\n",
    "**Pre-requisites**:\n",
    "- Some Python programming language background\n",
    "- Machine Learning (supervised learning) models such as Random Forests\n",
    "- Some exposure to Pandas, Numpy and Scikit-learn\n",
    "- Motivation to have the best running classifier in the room\n",
    "\n",
    "---\n",
    "**Required Python lybraries** (latest versions if possible, you can easily install them with ***pip***)\n",
    "- sklearn\n",
    "- skopt\n",
    "- pandas\n",
    "- numpy\n",
    "- scipy\n",
    "- matplotlib\n",
    "\n",
    "---  \n",
    "Presenter: Hugo Lopes ([LinkedIn](https://linkedin.com/in/hugodlopes))  \n",
    "Contact: hjdlopes@gmail.com"
   ]
  },
  {
   "cell_type": "markdown",
   "metadata": {},
   "source": [
    "# Initializations"
   ]
  },
  {
   "cell_type": "code",
   "execution_count": 1,
   "metadata": {
    "collapsed": false
   },
   "outputs": [],
   "source": [
    "%matplotlib inline\n",
    "import matplotlib.pyplot as plt\n",
    "plt.rcParams.update({'font.size': 16})\n",
    "\n",
    "import pandas as pd \n",
    "import numpy as np\n",
    "from scipy.stats import randint\n",
    "\n",
    "from sklearn.ensemble import RandomForestClassifier\n",
    "from sklearn.model_selection import train_test_split\n",
    "from sklearn.model_selection import GridSearchCV, RandomizedSearchCV\n",
    "from sklearn.model_selection import StratifiedKFold\n",
    "from sklearn.model_selection import cross_val_score\n",
    "from sklearn.metrics import roc_auc_score\n",
    "\n",
    "from skopt import gp_minimize"
   ]
  },
  {
   "cell_type": "code",
   "execution_count": 2,
   "metadata": {
    "collapsed": true
   },
   "outputs": [],
   "source": [
    "np.random.seed(seed=1)\n",
    "results = {}"
   ]
  },
  {
   "cell_type": "markdown",
   "metadata": {},
   "source": [
    "## Load Data\n",
    "Go to [Give Me Some Credit](https://www.kaggle.com/c/GiveMeSomeCredit/data) (you need to be registered at Kaggle to download the data, if you're not, now it is the best time to do it :) ). Download the [*cs-training*](https://www.kaggle.com/c/GiveMeSomeCredit/download/cs-training.csv) (.csv (7.21 mb)) and place it in the same folder of this notebook."
   ]
  },
  {
   "cell_type": "code",
   "execution_count": 3,
   "metadata": {
    "collapsed": false
   },
   "outputs": [],
   "source": [
    "data = pd.read_csv('cs-training.csv', index_col=0)"
   ]
  },
  {
   "cell_type": "markdown",
   "metadata": {},
   "source": [
    "Let's check the structure of the data, now without NaN."
   ]
  },
  {
   "cell_type": "code",
   "execution_count": 4,
   "metadata": {
    "collapsed": false,
    "scrolled": true
   },
   "outputs": [
    {
     "data": {
      "text/html": [
       "<div>\n",
       "<table border=\"1\" class=\"dataframe\">\n",
       "  <thead>\n",
       "    <tr style=\"text-align: right;\">\n",
       "      <th></th>\n",
       "      <th>SeriousDlqin2yrs</th>\n",
       "      <th>RevolvingUtilizationOfUnsecuredLines</th>\n",
       "      <th>age</th>\n",
       "      <th>NumberOfTime30-59DaysPastDueNotWorse</th>\n",
       "      <th>DebtRatio</th>\n",
       "      <th>MonthlyIncome</th>\n",
       "      <th>NumberOfOpenCreditLinesAndLoans</th>\n",
       "      <th>NumberOfTimes90DaysLate</th>\n",
       "      <th>NumberRealEstateLoansOrLines</th>\n",
       "      <th>NumberOfTime60-89DaysPastDueNotWorse</th>\n",
       "      <th>NumberOfDependents</th>\n",
       "    </tr>\n",
       "  </thead>\n",
       "  <tbody>\n",
       "    <tr>\n",
       "      <th>1</th>\n",
       "      <td>1</td>\n",
       "      <td>0.766127</td>\n",
       "      <td>45</td>\n",
       "      <td>2</td>\n",
       "      <td>0.802982</td>\n",
       "      <td>9120.0</td>\n",
       "      <td>13</td>\n",
       "      <td>0</td>\n",
       "      <td>6</td>\n",
       "      <td>0</td>\n",
       "      <td>2.0</td>\n",
       "    </tr>\n",
       "    <tr>\n",
       "      <th>2</th>\n",
       "      <td>0</td>\n",
       "      <td>0.957151</td>\n",
       "      <td>40</td>\n",
       "      <td>0</td>\n",
       "      <td>0.121876</td>\n",
       "      <td>2600.0</td>\n",
       "      <td>4</td>\n",
       "      <td>0</td>\n",
       "      <td>0</td>\n",
       "      <td>0</td>\n",
       "      <td>1.0</td>\n",
       "    </tr>\n",
       "    <tr>\n",
       "      <th>3</th>\n",
       "      <td>0</td>\n",
       "      <td>0.658180</td>\n",
       "      <td>38</td>\n",
       "      <td>1</td>\n",
       "      <td>0.085113</td>\n",
       "      <td>3042.0</td>\n",
       "      <td>2</td>\n",
       "      <td>1</td>\n",
       "      <td>0</td>\n",
       "      <td>0</td>\n",
       "      <td>0.0</td>\n",
       "    </tr>\n",
       "    <tr>\n",
       "      <th>4</th>\n",
       "      <td>0</td>\n",
       "      <td>0.233810</td>\n",
       "      <td>30</td>\n",
       "      <td>0</td>\n",
       "      <td>0.036050</td>\n",
       "      <td>3300.0</td>\n",
       "      <td>5</td>\n",
       "      <td>0</td>\n",
       "      <td>0</td>\n",
       "      <td>0</td>\n",
       "      <td>0.0</td>\n",
       "    </tr>\n",
       "    <tr>\n",
       "      <th>5</th>\n",
       "      <td>0</td>\n",
       "      <td>0.907239</td>\n",
       "      <td>49</td>\n",
       "      <td>1</td>\n",
       "      <td>0.024926</td>\n",
       "      <td>63588.0</td>\n",
       "      <td>7</td>\n",
       "      <td>0</td>\n",
       "      <td>1</td>\n",
       "      <td>0</td>\n",
       "      <td>0.0</td>\n",
       "    </tr>\n",
       "    <tr>\n",
       "      <th>6</th>\n",
       "      <td>0</td>\n",
       "      <td>0.213179</td>\n",
       "      <td>74</td>\n",
       "      <td>0</td>\n",
       "      <td>0.375607</td>\n",
       "      <td>3500.0</td>\n",
       "      <td>3</td>\n",
       "      <td>0</td>\n",
       "      <td>1</td>\n",
       "      <td>0</td>\n",
       "      <td>1.0</td>\n",
       "    </tr>\n",
       "    <tr>\n",
       "      <th>7</th>\n",
       "      <td>0</td>\n",
       "      <td>0.305682</td>\n",
       "      <td>57</td>\n",
       "      <td>0</td>\n",
       "      <td>5710.000000</td>\n",
       "      <td>NaN</td>\n",
       "      <td>8</td>\n",
       "      <td>0</td>\n",
       "      <td>3</td>\n",
       "      <td>0</td>\n",
       "      <td>0.0</td>\n",
       "    </tr>\n",
       "    <tr>\n",
       "      <th>8</th>\n",
       "      <td>0</td>\n",
       "      <td>0.754464</td>\n",
       "      <td>39</td>\n",
       "      <td>0</td>\n",
       "      <td>0.209940</td>\n",
       "      <td>3500.0</td>\n",
       "      <td>8</td>\n",
       "      <td>0</td>\n",
       "      <td>0</td>\n",
       "      <td>0</td>\n",
       "      <td>0.0</td>\n",
       "    </tr>\n",
       "  </tbody>\n",
       "</table>\n",
       "</div>"
      ],
      "text/plain": [
       "   SeriousDlqin2yrs  RevolvingUtilizationOfUnsecuredLines  age  \\\n",
       "1                 1                              0.766127   45   \n",
       "2                 0                              0.957151   40   \n",
       "3                 0                              0.658180   38   \n",
       "4                 0                              0.233810   30   \n",
       "5                 0                              0.907239   49   \n",
       "6                 0                              0.213179   74   \n",
       "7                 0                              0.305682   57   \n",
       "8                 0                              0.754464   39   \n",
       "\n",
       "   NumberOfTime30-59DaysPastDueNotWorse    DebtRatio  MonthlyIncome  \\\n",
       "1                                     2     0.802982         9120.0   \n",
       "2                                     0     0.121876         2600.0   \n",
       "3                                     1     0.085113         3042.0   \n",
       "4                                     0     0.036050         3300.0   \n",
       "5                                     1     0.024926        63588.0   \n",
       "6                                     0     0.375607         3500.0   \n",
       "7                                     0  5710.000000            NaN   \n",
       "8                                     0     0.209940         3500.0   \n",
       "\n",
       "   NumberOfOpenCreditLinesAndLoans  NumberOfTimes90DaysLate  \\\n",
       "1                               13                        0   \n",
       "2                                4                        0   \n",
       "3                                2                        1   \n",
       "4                                5                        0   \n",
       "5                                7                        0   \n",
       "6                                3                        0   \n",
       "7                                8                        0   \n",
       "8                                8                        0   \n",
       "\n",
       "   NumberRealEstateLoansOrLines  NumberOfTime60-89DaysPastDueNotWorse  \\\n",
       "1                             6                                     0   \n",
       "2                             0                                     0   \n",
       "3                             0                                     0   \n",
       "4                             0                                     0   \n",
       "5                             1                                     0   \n",
       "6                             1                                     0   \n",
       "7                             3                                     0   \n",
       "8                             0                                     0   \n",
       "\n",
       "   NumberOfDependents  \n",
       "1                 2.0  \n",
       "2                 1.0  \n",
       "3                 0.0  \n",
       "4                 0.0  \n",
       "5                 0.0  \n",
       "6                 1.0  \n",
       "7                 0.0  \n",
       "8                 0.0  "
      ]
     },
     "execution_count": 4,
     "metadata": {},
     "output_type": "execute_result"
    }
   ],
   "source": [
    "data.head(8)"
   ]
  },
  {
   "cell_type": "markdown",
   "metadata": {},
   "source": [
    "Let's perform a fast and simple way to eliminate missing data by just dropping the rows with NaN. There are other methods to avoid wasting these rows, but it is out of the scope of this notebook."
   ]
  },
  {
   "cell_type": "code",
   "execution_count": 5,
   "metadata": {
    "collapsed": false
   },
   "outputs": [
    {
     "name": "stdout",
     "output_type": "stream",
     "text": [
      "Number of entries without NaN:\n",
      "---------------------------\n",
      "SeriousDlqin2yrs                        150000\n",
      "RevolvingUtilizationOfUnsecuredLines    150000\n",
      "age                                     150000\n",
      "NumberOfTime30-59DaysPastDueNotWorse    150000\n",
      "DebtRatio                               150000\n",
      "MonthlyIncome                           120269\n",
      "NumberOfOpenCreditLinesAndLoans         150000\n",
      "NumberOfTimes90DaysLate                 150000\n",
      "NumberRealEstateLoansOrLines            150000\n",
      "NumberOfTime60-89DaysPastDueNotWorse    150000\n",
      "NumberOfDependents                      146076\n",
      "dtype: int64\n"
     ]
    }
   ],
   "source": [
    "print('Number of entries without NaN:')\n",
    "print('---------------------------')\n",
    "print(data.count())\n",
    "data.dropna(inplace=True)"
   ]
  },
  {
   "cell_type": "markdown",
   "metadata": {},
   "source": [
    "Now it is time to select the **target** (*y*, the first column) and **features** (*X*, the remaining columns). Note, we will perform binary classification so target is either 0 or 1.\n",
    "\n",
    "Let us also **reduce the size of the dataset to 10000 rows (clients)** so that we can perform computations live."
   ]
  },
  {
   "cell_type": "code",
   "execution_count": 6,
   "metadata": {
    "collapsed": false
   },
   "outputs": [
    {
     "name": "stdout",
     "output_type": "stream",
     "text": [
      "Number of features (columns): 10\n",
      "Number of loans (rows): 10000\n"
     ]
    }
   ],
   "source": [
    "# Get target column\n",
    "y = data['SeriousDlqin2yrs']\n",
    "\n",
    "# Get features columns\n",
    "X = data.ix[:, 1:]\n",
    "\n",
    "# Shuffle data and reduce dataset\n",
    "idx = np.random.permutation(y.size)\n",
    "X = X.iloc[idx]\n",
    "X = X.iloc[:10000]\n",
    "y = y.iloc[idx]\n",
    "y = y.iloc[:10000]\n",
    "\n",
    "print('Number of features (columns):', X.shape[1])\n",
    "print('Number of loans (rows):', X.shape[0])"
   ]
  },
  {
   "cell_type": "markdown",
   "metadata": {},
   "source": [
    "### Train-Test Split\n",
    "Before we construct our model, let's divide the data into a **training dataset** (80 percent of the data) and a **test dataset** (20 percent of the data). We will train the classifier on the training dataset, and then evaluate the performance of our classifier with the test dataset. \n",
    "\n",
    "This is very useful to check if we are **overfitting** our training data, i.e., getting very good results within the training dataset and bad results with our testing dataset."
   ]
  },
  {
   "cell_type": "code",
   "execution_count": 7,
   "metadata": {
    "collapsed": true
   },
   "outputs": [],
   "source": [
    "X_train, X_test, y_train, y_test = train_test_split(X, y, test_size=0.20, random_state=1)"
   ]
  },
  {
   "cell_type": "markdown",
   "metadata": {},
   "source": [
    "# Making a First Prediction (with classifier's default configuration)\n",
    "Let's make use of the [**Random Forest Classifier**](http://scikit-learn.org/stable/modules/generated/sklearn.ensemble.RandomForestClassifier.html) (available in [scikit-learn](http://scikit-learn.org/stable/)).  \n",
    "\n",
    "First, let's train it with the default configuration, then evaluate its performance on the test data:"
   ]
  },
  {
   "cell_type": "code",
   "execution_count": 9,
   "metadata": {
    "collapsed": false
   },
   "outputs": [
    {
     "data": {
      "text/plain": [
       "RandomForestClassifier(bootstrap=True, class_weight=None, criterion='gini',\n",
       "            max_depth=None, max_features='auto', max_leaf_nodes=None,\n",
       "            min_impurity_split=1e-07, min_samples_leaf=1,\n",
       "            min_samples_split=2, min_weight_fraction_leaf=0.0,\n",
       "            n_estimators=10, n_jobs=-1, oob_score=False, random_state=1,\n",
       "            verbose=0, warm_start=False)"
      ]
     },
     "execution_count": 9,
     "metadata": {},
     "output_type": "execute_result"
    }
   ],
   "source": [
    "clf = RandomForestClassifier(n_jobs=-1, random_state=1)\n",
    "clf.fit(X_train, y_train)"
   ]
  },
  {
   "cell_type": "markdown",
   "metadata": {},
   "source": [
    "From the output above we can check the configuration of the default Random Forests, such as the number of trees in the forest, *n_estimators=10*. So, with the created and trained classifier, let's check the **ROC AUC** on the given test data."
   ]
  },
  {
   "cell_type": "code",
   "execution_count": 10,
   "metadata": {
    "collapsed": false
   },
   "outputs": [
    {
     "name": "stdout",
     "output_type": "stream",
     "text": [
      "Test ROC AUC: 0.7907\n"
     ]
    }
   ],
   "source": [
    "#results['Default'] = clf.score(X_test, y_test)\n",
    "results['Default'] = roc_auc_score(y_test, clf.predict_proba(X_test)[:, 1])\n",
    "print('Test ROC AUC: %.4f' % results['Default'])"
   ]
  },
  {
   "cell_type": "markdown",
   "metadata": {},
   "source": [
    "# Tuning our Classifier: Grid-Search Cross-Validation\n",
    "As scikit-learn defines it, [**GridSearchCV**](http://scikit-learn.org/stable/modules/generated/sklearn.model_selection.GridSearchCV.html#sklearn.model_selection.GridSearchCV) is: *Exhaustive search over specified parameter values for an estimator.*  \n",
    "The user defines a set of values for the classifier hyperparameters. Then, the GridSearchCV implements a “fit” and a “score” method. The evaluation is performed with Cross-Validation."
   ]
  },
  {
   "cell_type": "markdown",
   "metadata": {},
   "source": [
    "#### 1. Create Cross-Validation (CV) Folds\n",
    "This [**StratifiedKFold**](http://scikit-learn.org/stable/modules/generated/sklearn.model_selection.StratifiedKFold.html) cross-validation object is a variation of KFold that returns stratified folds, ie., the folds are made by preserving the percentage of samples for each class (stratification is generally a better scheme, both in terms of bias and variance)."
   ]
  },
  {
   "cell_type": "code",
   "execution_count": 14,
   "metadata": {
    "collapsed": false
   },
   "outputs": [],
   "source": [
    "skfold_cv = StratifiedKFold(n_splits=3, shuffle=True, random_state=1)"
   ]
  },
  {
   "cell_type": "markdown",
   "metadata": {},
   "source": [
    "#### 2. Fixed Parameters\n",
    "Secondly, let us define some parameters that we won't vary in our Random Forest ([click here](http://scikit-learn.org/stable/modules/generated/sklearn.ensemble.RandomForestClassifier.html) for full definition of its hyperparameters):\n",
    "- n_jobs=-1, to use all cores\n",
    "- random_state=1, so that we can re-run experiements with same results later\n",
    "- n_estimators=50, the number of trees in the forest, usually the higher the better (so does not make much sense to optimize this...). 50 is not a high number for this experiment, but the higher the value is, the more computational resources we'll need."
   ]
  },
  {
   "cell_type": "code",
   "execution_count": 15,
   "metadata": {
    "collapsed": false
   },
   "outputs": [],
   "source": [
    "# Fixed parameters\n",
    "params_fixed = {\n",
    "    'n_jobs': -1,\n",
    "    'random_state': 1,\n",
    "    'n_estimators': 100\n",
    "}\n",
    "# Initialize Random Forest model with the fixed parameters\n",
    "clf = RandomForestClassifier(**params_fixed)"
   ]
  },
  {
   "cell_type": "markdown",
   "metadata": {},
   "source": [
    "#### 3. Scoring metric\n",
    "Now, we have to decide our **scoring metric** to evaluate the performance of our classifier. Some examples are *accuracy*, *mean_squared_error*, *roc_auc*."
   ]
  },
  {
   "cell_type": "code",
   "execution_count": 16,
   "metadata": {
    "collapsed": true
   },
   "outputs": [],
   "source": [
    "#score_metric = 'accuracy'\n",
    "score_metric = 'roc_auc'"
   ]
  },
  {
   "cell_type": "markdown",
   "metadata": {},
   "source": [
    "### The Grid-Search CV\n",
    "The Random Forest Classifier has a bunch of hyperparameters we can tune ([click here](http://scikit-learn.org/stable/modules/generated/sklearn.ensemble.RandomForestClassifier.html) for full description), thus for sake of learning how to work with the optimization tools we'll not go into their full description. The tuning process is analogous to any scikit-learn model, but with different hyperparameters.\n",
    "\n",
    "For example, let's pick the following ones:\n",
    "- max_depth\n",
    "- max_features\n",
    "- min_samples_split\n",
    "- min_samples_leaf\n",
    "- criterion"
   ]
  },
  {
   "cell_type": "code",
   "execution_count": 17,
   "metadata": {
    "collapsed": false
   },
   "outputs": [
    {
     "name": "stdout",
     "output_type": "stream",
     "text": [
      "Fitting 3 folds for each of 32 candidates, totalling 96 fits\n"
     ]
    },
    {
     "name": "stderr",
     "output_type": "stream",
     "text": [
      "[Parallel(n_jobs=-1)]: Done  42 tasks      | elapsed:   12.3s\n",
      "[Parallel(n_jobs=-1)]: Done  96 out of  96 | elapsed:   32.1s finished\n"
     ]
    },
    {
     "name": "stdout",
     "output_type": "stream",
     "text": [
      "Done!\n"
     ]
    }
   ],
   "source": [
    "# Define the grid for the selected hyperparameters\n",
    "params_grid = {\"max_depth\": [1, 20],\n",
    "              \"max_features\": [1, 10],\n",
    "              \"min_samples_split\": [1, 10],\n",
    "              \"min_samples_leaf\": [1, 10],\n",
    "              \"criterion\": [\"gini\", \"entropy\"]}\n",
    "\n",
    "# Run Grid-Search CV\n",
    "results_gs = GridSearchCV(estimator=clf,\n",
    "                          param_grid=params_grid,\n",
    "                          cv=skfold_cv,\n",
    "                          scoring=score_metric,\n",
    "                          n_jobs=-1,\n",
    "                          verbose=1)\n",
    "results_gs.fit(X, y)\n",
    "print('Done!')"
   ]
  },
  {
   "cell_type": "markdown",
   "metadata": {},
   "source": [
    "Let us evaluate the results of all runs:"
   ]
  },
  {
   "cell_type": "code",
   "execution_count": 18,
   "metadata": {
    "collapsed": false
   },
   "outputs": [
    {
     "data": {
      "image/png": "[encoded data removed]",
      "text/plain": [
       "<matplotlib.figure.Figure at 0x108dac630>"
      ]
     },
     "metadata": {},
     "output_type": "display_data"
    }
   ],
   "source": [
    "plt.figure(figsize=(14,6))\n",
    "plt.plot(results_gs.cv_results_['mean_test_score'], 'o-')\n",
    "plt.grid()\n",
    "plt.xlabel('Iteration number (in GridSearchCV)')\n",
    "plt.ylabel('ROC AUC')\n",
    "plt.title('GridSearchCV - Results')\n",
    "plt.xlim([0, len(results_gs.cv_results_['mean_test_score'])-1])\n",
    "plt.show()"
   ]
  },
  {
   "cell_type": "markdown",
   "metadata": {},
   "source": [
    "What are the parameters that led to the best accuracy that was achieved?"
   ]
  },
  {
   "cell_type": "code",
   "execution_count": 19,
   "metadata": {
    "collapsed": false
   },
   "outputs": [
    {
     "data": {
      "text/plain": [
       "{'criterion': 'gini',\n",
       " 'max_depth': 20,\n",
       " 'max_features': 1,\n",
       " 'min_samples_leaf': 10,\n",
       " 'min_samples_split': 1}"
      ]
     },
     "execution_count": 19,
     "metadata": {},
     "output_type": "execute_result"
    }
   ],
   "source": [
    "results_gs.best_params_"
   ]
  },
  {
   "cell_type": "markdown",
   "metadata": {},
   "source": [
    "What is the best ROC AUC we got?"
   ]
  },
  {
   "cell_type": "code",
   "execution_count": 20,
   "metadata": {
    "collapsed": false
   },
   "outputs": [
    {
     "name": "stdout",
     "output_type": "stream",
     "text": [
      "Test ROC AUC: 0.8549\n",
      "(Test ROC AUC: 0.7907 - Default configuration)\n"
     ]
    }
   ],
   "source": [
    "results['GridSearchCV'] = results_gs.best_score_\n",
    "print('Test ROC AUC: %.4f' % results['GridSearchCV'])\n",
    "print('(Test ROC AUC: %.4f - Default configuration)' % results['Default'])"
   ]
  },
  {
   "cell_type": "markdown",
   "metadata": {},
   "source": [
    "There is improvement here, which means that the default configuration is not the best one (as expected...)."
   ]
  },
  {
   "cell_type": "markdown",
   "metadata": {},
   "source": [
    "# Tuning our Classifier: Randomized Search CV\n",
    "The [**RandomizedSearchCV**](http://scikit-learn.org/stable/modules/generated/sklearn.model_selection.RandomizedSearchCV.html#sklearn.model_selection.RandomizedSearchCV) implements a randomized search over parameters, where each setting is sampled from a distribution over possible parameter values (i.e., not all parameter values are tried out).  \n",
    "\n",
    "Besides the distribution of the parameters (***param_distributions***) we must set the number of interations (***n_iter***) we would like the search to run, which trades-off runtime vs quality of the solution. The remaining parameters are very similar to GridSearchCV.\n",
    "\n",
    "RandomizedSearchCV has **two main benefits** over GridSearchCV:\n",
    "- A budget (number of iterations) can be chosen independent of the number of parameters and possible values.\n",
    "- Adding parameters that do not influence the performance does not decrease efficiency."
   ]
  },
  {
   "cell_type": "code",
   "execution_count": 21,
   "metadata": {
    "collapsed": false
   },
   "outputs": [
    {
     "name": "stdout",
     "output_type": "stream",
     "text": [
      "Fitting 3 folds for each of 20 candidates, totalling 60 fits\n"
     ]
    },
    {
     "name": "stderr",
     "output_type": "stream",
     "text": [
      "[Parallel(n_jobs=-1)]: Done  42 tasks      | elapsed:   17.9s\n",
      "[Parallel(n_jobs=-1)]: Done  60 out of  60 | elapsed:   23.6s finished\n"
     ]
    },
    {
     "name": "stdout",
     "output_type": "stream",
     "text": [
      "Done!\n"
     ]
    }
   ],
   "source": [
    "# Distribution of the parameters (randint: discrete random variables)\n",
    "param_dist = {\"max_depth\": randint(1, 21),\n",
    "              \"max_features\": randint(1, 11),\n",
    "              \"min_samples_split\": randint(1, 11),\n",
    "              \"min_samples_leaf\": randint(1, 11),\n",
    "              \"criterion\": [\"gini\", \"entropy\"]}\n",
    "\n",
    "# Number of iterations to perform\n",
    "n_iter = 20\n",
    "\n",
    "# Run Randomized Search\n",
    "results_rgs = RandomizedSearchCV(estimator=clf,\n",
    "                                param_distributions=param_dist,\n",
    "                                n_iter=n_iter,\n",
    "                                cv=skfold_cv,           # use same CV folds as in GridSearchCV\n",
    "                                scoring=score_metric,   # use same scoring metric as in GridSearchCV\n",
    "                                random_state=1,\n",
    "                                n_jobs=-1,\n",
    "                                verbose=1)\n",
    "results_rgs.fit(X, y)\n",
    "print('Done!')"
   ]
  },
  {
   "cell_type": "markdown",
   "metadata": {},
   "source": [
    "Let us evaluate the results of all runs:"
   ]
  },
  {
   "cell_type": "code",
   "execution_count": 22,
   "metadata": {
    "collapsed": false
   },
   "outputs": [
    {
     "data": {
      "image/png": "[encoded data removed]",
      "text/plain": [
       "<matplotlib.figure.Figure at 0x1046832b0>"
      ]
     },
     "metadata": {},
     "output_type": "display_data"
    }
   ],
   "source": [
    "plt.figure(figsize=(14,6))\n",
    "plt.plot(results_rgs.cv_results_['mean_test_score'], 'ro-')\n",
    "plt.grid()\n",
    "plt.xlabel('Iteration number')\n",
    "plt.ylabel('ROC AUC')\n",
    "plt.title('RandomizedSearchCV - Results')\n",
    "plt.xlim([0, len(results_rgs.cv_results_['mean_test_score'])-1])\n",
    "plt.show()"
   ]
  },
  {
   "cell_type": "markdown",
   "metadata": {},
   "source": [
    "What are the parameters that led to the best accuracy that was achieved?"
   ]
  },
  {
   "cell_type": "code",
   "execution_count": 23,
   "metadata": {
    "collapsed": false
   },
   "outputs": [
    {
     "data": {
      "text/plain": [
       "{'criterion': 'gini',\n",
       " 'max_depth': 10,\n",
       " 'max_features': 2,\n",
       " 'min_samples_leaf': 8,\n",
       " 'min_samples_split': 1}"
      ]
     },
     "execution_count": 23,
     "metadata": {},
     "output_type": "execute_result"
    }
   ],
   "source": [
    "results_rgs.best_params_"
   ]
  },
  {
   "cell_type": "markdown",
   "metadata": {},
   "source": [
    "What is the best accuracy we got?"
   ]
  },
  {
   "cell_type": "code",
   "execution_count": 24,
   "metadata": {
    "collapsed": false
   },
   "outputs": [
    {
     "name": "stdout",
     "output_type": "stream",
     "text": [
      "Test ROC AUC: 0.8551\n",
      "(Test ROC AUC of Grid-Search: 0.8549)\n"
     ]
    }
   ],
   "source": [
    "results['RandomizedGridSearchCV'] = results_rgs.best_score_\n",
    "print('Test ROC AUC: %.4f' % results['RandomizedGridSearchCV'])\n",
    "print('(Test ROC AUC of Grid-Search: %.4f)' % results['GridSearchCV'])"
   ]
  },
  {
   "cell_type": "markdown",
   "metadata": {},
   "source": [
    "There is a very slight improvement here, but was it just mere luck?"
   ]
  },
  {
   "cell_type": "markdown",
   "metadata": {},
   "source": [
    "# Tuning our Classifier: Scikit-Optimize (SKOPT)\n",
    "[**SKOPT**](https://scikit-optimize.github.io/) is a sequential model-based optimization. SKOPT hopefully results in equivalent or better solutions, but within less evaluations (less time consuming). It can also be reusable in various contexts besides scikit-learn (e.g., minimizing a function).\n",
    "\n",
    "The library is built on top of NumPy, SciPy and Scikit-Learn.  \n",
    "\n",
    "First step is to define the **objective function** we want to minimize (it accepts an array of parameters and return the function values). In our case, it is the **cross-validation negative (since we are minimizing!) ROC AUC over our dataset**, as a function of its hyperparameters. "
   ]
  },
  {
   "cell_type": "code",
   "execution_count": 25,
   "metadata": {
    "collapsed": true
   },
   "outputs": [],
   "source": [
    "def objective_func(params):\n",
    "    # Get the parameters\n",
    "    max_depth, max_features, min_samples_split, min_samples_leaf, criterion = params\n",
    "    # Set the parameters in the model\n",
    "    clf.set_params(max_depth=max_depth, \n",
    "                     max_features=max_features,\n",
    "                     min_samples_split=min_samples_split,\n",
    "                     min_samples_leaf=min_samples_leaf,\n",
    "                     criterion=criterion)\n",
    "    # Perform CV and return the mean of the scoring values\n",
    "    skfold_cv_splits = skfold_cv.split(X, y)\n",
    "    return -np.mean(cross_val_score(clf,\n",
    "                                    X,\n",
    "                                    y, \n",
    "                                    cv=skfold_cv_splits, \n",
    "                                    n_jobs=-1, \n",
    "                                    scoring=score_metric))"
   ]
  },
  {
   "cell_type": "markdown",
   "metadata": {},
   "source": [
    "Next step is to define the **bounds of the parameters** in the search space we want to explore (we could also set the starting point) and the **number of iterations**."
   ]
  },
  {
   "cell_type": "code",
   "execution_count": 26,
   "metadata": {
    "collapsed": false,
    "scrolled": true
   },
   "outputs": [],
   "source": [
    "# Optimization Space (parameters and their boundaries):\n",
    "space = [(1, 20),               # max_depth\n",
    "         (1, 10),               # max_features \n",
    "         (1, 10),               # min_samples_split \n",
    "         (1, 10),               # min_samples_leaf \n",
    "         ('entropy', 'gini')]    # criterion\n",
    "\n",
    "# Name of the above features\n",
    "names = ['max_depth', 'max_features', 'min_samples_split', 'min_samples_leaf', 'criterion']\n",
    "\n",
    "# Number of iterations to perform\n",
    "n_calls = 15"
   ]
  },
  {
   "cell_type": "markdown",
   "metadata": {},
   "source": [
    "Optimize with SKOPT! Pass the objective function (*objective_func*) defined above and the *space* with parameter boundaries.\n",
    "\n",
    "Make use of **gp_minimize**, Bayesian optimization (sequential design strategy for global optimization of black-box functions) using Gaussian Processes (statistical model where observations occur in a continuous domain). The objective function is approximated by a Gaussian Process.\n",
    "\n",
    "Other minimization functions exists such as *forest_minimize* (Sequential optimisation using decision trees) or *gbrt_minimize* (Sequential optimization using gradient boosted trees). "
   ]
  },
  {
   "cell_type": "code",
   "execution_count": 27,
   "metadata": {
    "collapsed": false,
    "scrolled": true
   },
   "outputs": [
    {
     "name": "stdout",
     "output_type": "stream",
     "text": [
      "Iteration No: 1 started. Evaluating function at random point.\n",
      "Iteration No: 1 ended. Evaluation done at random point.\n",
      "Time taken: 2.3323\n",
      "Function value obtained: -0.8498\n",
      "Current minimum: -0.8498\n",
      "Iteration No: 2 started. Evaluating function at random point.\n",
      "Iteration No: 2 ended. Evaluation done at random point.\n",
      "Time taken: 2.2157\n",
      "Function value obtained: -0.8474\n",
      "Current minimum: -0.8498\n",
      "Iteration No: 3 started. Evaluating function at random point.\n",
      "Iteration No: 3 ended. Evaluation done at random point.\n",
      "Time taken: 1.8051\n",
      "Function value obtained: -0.8444\n",
      "Current minimum: -0.8498\n",
      "Iteration No: 4 started. Evaluating function at random point.\n",
      "Iteration No: 4 ended. Evaluation done at random point.\n",
      "Time taken: 0.9917\n",
      "Function value obtained: -0.8526\n",
      "Current minimum: -0.8526\n",
      "Iteration No: 5 started. Evaluating function at random point.\n",
      "Iteration No: 5 ended. Evaluation done at random point.\n",
      "Time taken: 1.4009\n",
      "Function value obtained: -0.8539\n",
      "Current minimum: -0.8539\n",
      "Iteration No: 6 started. Evaluating function at random point.\n",
      "Iteration No: 6 ended. Evaluation done at random point.\n",
      "Time taken: 0.6734\n",
      "Function value obtained: -0.8484\n",
      "Current minimum: -0.8539\n",
      "Iteration No: 7 started. Evaluating function at random point.\n",
      "Iteration No: 7 ended. Evaluation done at random point.\n",
      "Time taken: 1.3157\n",
      "Function value obtained: -0.8406\n",
      "Current minimum: -0.8539\n",
      "Iteration No: 8 started. Evaluating function at random point.\n",
      "Iteration No: 8 ended. Evaluation done at random point.\n",
      "Time taken: 1.5037\n",
      "Function value obtained: -0.8502\n",
      "Current minimum: -0.8539\n",
      "Iteration No: 9 started. Evaluating function at random point.\n",
      "Iteration No: 9 ended. Evaluation done at random point.\n",
      "Time taken: 0.8843\n",
      "Function value obtained: -0.8562\n",
      "Current minimum: -0.8562\n",
      "Iteration No: 10 started. Evaluating function at random point.\n",
      "Iteration No: 10 ended. Evaluation done at random point.\n",
      "Time taken: 1.6242\n",
      "Function value obtained: -0.8437\n",
      "Current minimum: -0.8562\n",
      "Iteration No: 11 started. Searching for the next optimal point.\n",
      "Iteration No: 11 ended. Search finished for the next optimal point.\n",
      "Time taken: 0.8104\n",
      "Function value obtained: -0.8539\n",
      "Current minimum: -0.8562\n",
      "Iteration No: 12 started. Searching for the next optimal point.\n",
      "Iteration No: 12 ended. Search finished for the next optimal point.\n",
      "Time taken: 0.8051\n",
      "Function value obtained: -0.8460\n",
      "Current minimum: -0.8562\n",
      "Iteration No: 13 started. Searching for the next optimal point.\n",
      "Iteration No: 13 ended. Search finished for the next optimal point.\n",
      "Time taken: 0.7027\n",
      "Function value obtained: -0.8492\n",
      "Current minimum: -0.8562\n",
      "Iteration No: 14 started. Searching for the next optimal point.\n",
      "Iteration No: 14 ended. Search finished for the next optimal point.\n",
      "Time taken: 0.8055\n",
      "Function value obtained: -0.7184\n",
      "Current minimum: -0.8562\n",
      "Iteration No: 15 started. Searching for the next optimal point.\n",
      "Iteration No: 15 ended. Search finished for the next optimal point.\n",
      "Time taken: 2.2433\n",
      "Function value obtained: -0.8390\n",
      "Current minimum: -0.8562\n"
     ]
    }
   ],
   "source": [
    "results_skopt = gp_minimize(objective_func, \n",
    "                            space, \n",
    "                            verbose=True, \n",
    "                            n_calls=n_calls)"
   ]
  },
  {
   "cell_type": "markdown",
   "metadata": {},
   "source": [
    "What are the parameters that led to the best accuracy that was achieved?"
   ]
  },
  {
   "cell_type": "code",
   "execution_count": 28,
   "metadata": {
    "collapsed": false
   },
   "outputs": [
    {
     "name": "stdout",
     "output_type": "stream",
     "text": [
      "{'max_features': 2, 'min_samples_leaf': 5, 'max_depth': 10, 'min_samples_split': 7, 'criterion': 'gini'}\n"
     ]
    }
   ],
   "source": [
    "best_params = dict(zip(names, results_skopt.x))\n",
    "results['SKOPT'] = -results_skopt.fun\n",
    "print(best_params)"
   ]
  },
  {
   "cell_type": "markdown",
   "metadata": {},
   "source": [
    "Plot the convergence over iterations:"
   ]
  },
  {
   "cell_type": "code",
   "execution_count": 29,
   "metadata": {
    "collapsed": false
   },
   "outputs": [
    {
     "data": {
      "text/plain": [
       "<matplotlib.axes._subplots.AxesSubplot at 0x1046531d0>"
      ]
     },
     "execution_count": 29,
     "metadata": {},
     "output_type": "execute_result"
    },
    {
     "data": {
      "image/png": "[encoded data removed]",
      "text/plain": [
       "<matplotlib.figure.Figure at 0x108dac668>"
      ]
     },
     "metadata": {},
     "output_type": "display_data"
    }
   ],
   "source": [
    "from skopt.plots import plot_convergence\n",
    "plt.rcParams[\"figure.figsize\"] = (10, 6)\n",
    "plot_convergence((\"gp_optimize\", results_skopt))"
   ]
  },
  {
   "cell_type": "markdown",
   "metadata": {},
   "source": [
    "# Comparing Results\n",
    "Let us compare all results."
   ]
  },
  {
   "cell_type": "code",
   "execution_count": 30,
   "metadata": {
    "collapsed": false
   },
   "outputs": [
    {
     "name": "stdout",
     "output_type": "stream",
     "text": [
      "Default:                0.7907\n",
      "GridSearchCV:           0.8549 (32 iterations)\n",
      "RandomizedGridSearchCV: 0.8551 (20 iterations)\n",
      "SKOPT:                  0.8562 (15 iterations)\n"
     ]
    }
   ],
   "source": [
    "print('Default:                %.4f' % results['Default']) \n",
    "print('GridSearchCV:           %.4f (32 iterations)' % results['GridSearchCV']) \n",
    "print('RandomizedGridSearchCV: %.4f (20 iterations)' % results['RandomizedGridSearchCV']) \n",
    "print('SKOPT:                  %.4f (15 iterations)' % results['SKOPT']) "
   ]
  },
  {
   "cell_type": "markdown",
   "metadata": {},
   "source": [
    "# To Sum Up\n",
    "- Tuning hyperparameters can (significantly) increase your machine learning model performance.\n",
    "- Scikit-learn provides basic hyperparameters search algorithms such as Grid-Search and Randomized Search\n",
    "- Scikit-Optimize is a more advanced algorithm for hyperparameter search (among other uses) and it generally results in equivalent or better solutions, but within less evaluations (less time consuming).\n",
    "- Recommendation: avoid creating your own hyperparameter optimization algorithms - build on top of existing ones"
   ]
  }
 ],
 "metadata": {
  "kernelspec": {
   "display_name": "Python 3",
   "language": "python",
   "name": "python3"
  },
  "language_info": {
   "codemirror_mode": {
    "name": "ipython",
    "version": 3
   },
   "file_extension": ".py",
   "mimetype": "text/x-python",
   "name": "python",
   "nbconvert_exporter": "python",
   "pygments_lexer": "ipython3",
   "version": "3.4.4"
  }
 },
 "nbformat": 4,
 "nbformat_minor": 0
}
